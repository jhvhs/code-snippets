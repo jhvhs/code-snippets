{
 "cells": [
  {
   "cell_type": "markdown",
   "metadata": {},
   "source": [
    "# How to pick a name with big data?\n",
    "\n",
    "Picking a name is a very personal thing. A name can honor past family members and friends. It can remind you of people you’ve met and their personalities. But, I’m going to take a very utilitarian approach.\n",
    "\n",
    "First, what are we optimizing for? We could try to find a unique name by looking at [the distribution of names by starting letter](https://medium.com/@TimSwast/what-letters-most-commonly-start-first-names-ef5f7f8e50d2#.kzv4g7fho). We might choose a name beginning with the letter U based on that analysis.\n",
    "\n",
    "But consider the situation where an elementary school teacher lines students up alphabetically. With a name beginning with U, the child would always be at the end. Personally, I find being at the end of a line uncomfortable. It’s much better to be near the center of a line. Let’s see if we can use data to optimize for comfort in this situation."
   ]
  },
  {
   "cell_type": "code",
   "execution_count": 1,
   "metadata": {
    "collapsed": false,
    "deletable": true,
    "editable": true
   },
   "outputs": [],
   "source": [
    "# Copyright 2017 Google Inc.\n",
    "#\n",
    "# Licensed under the Apache License, Version 2.0 (the \"License\");\n",
    "# you may not use this file except in compliance with the License.\n",
    "# You may obtain a copy of the License at\n",
    "#\n",
    "#     http://www.apache.org/licenses/LICENSE-2.0\n",
    "#\n",
    "# Unless required by applicable law or agreed to in writing, software\n",
    "# distributed under the License is distributed on an \"AS IS\" BASIS,\n",
    "# WITHOUT WARRANTIES OR CONDITIONS OF ANY KIND, either express or implied.\n",
    "# See the License for the specific language governing permissions and\n",
    "# limitations under the License.\n",
    "\n",
    "from matplotlib import pyplot as plt\n",
    "from pandas.io import gbq\n",
    "import pandas as pd"
   ]
  },
  {
   "cell_type": "markdown",
   "metadata": {},
   "source": [
    "First, use [BigQuery](https://cloud.google.com/bigquery/) to query the [USA Names public dataset](https://cloud.google.com/bigquery/public-data/usa-names). Summarize how many people have had each name."
   ]
  },
  {
   "cell_type": "code",
   "execution_count": 2,
   "metadata": {
    "collapsed": false,
    "deletable": true,
    "editable": true
   },
   "outputs": [
    {
     "name": "stdout",
     "output_type": "stream",
     "text": [
      "Requesting query... ok.\n",
      "Query running...\n",
      "Query done.\n",
      "Processed: 84.1 Mb\n",
      "\n",
      "Retrieving results...\n",
      "Got 29828 rows.\n",
      "\n",
      "Total time taken 4.94 s.\n",
      "Finished at 2017-03-03 03:03:58.\n"
     ]
    }
   ],
   "source": [
    "q = '''#standardSQL\n",
    "SELECT\n",
    "  name,\n",
    "  name_total,\n",
    "  (SUM(name_total) OVER(ORDER BY name ASC) + 1000) AS name_cumulative\n",
    "FROM (\n",
    "  SELECT\n",
    "    name,\n",
    "    SUM(number) AS name_total\n",
    "  FROM\n",
    "    `bigquery-public-data.usa_names.usa_1910_2013`\n",
    "  GROUP BY\n",
    "    name )\n",
    "ORDER BY\n",
    "  name ASC'''\n",
    "df = gbq.read_gbq(q, project_id='swast-scratch', dialect='standard')"
   ]
  },
  {
   "cell_type": "code",
   "execution_count": 3,
   "metadata": {
    "collapsed": false,
    "deletable": true,
    "editable": true
   },
   "outputs": [],
   "source": [
    "# Add a column that converts the cumulative total to percentages\n",
    "total_names = df.name_cumulative.tail(1).values\n",
    "df = df.assign(name_percent=pd.Series((df.name_cumulative * 100.0) / total_names).values)"
   ]
  },
  {
   "cell_type": "code",
   "execution_count": 4,
   "metadata": {
    "collapsed": true,
    "deletable": true,
    "editable": true
   },
   "outputs": [],
   "source": [
    "def pareto(df, nletters):\n",
    "    dff = df.groupby(by=lambda x: df.name[x][:nletters])\n",
    "    dff = dff.agg({'name_total': 'sum', 'name_percent': 'max'})\n",
    "\n",
    "    # Make a pareto plot (two y-axes)\n",
    "    dff.name_total.plot.bar()\n",
    "    return dff.name_percent.plot(secondary_y=True)"
   ]
  },
  {
   "cell_type": "markdown",
   "metadata": {},
   "source": [
    "Next, build a [Pareto chart](https://en.wikipedia.org/wiki/Pareto_chart) of the distribution of names by starting letter."
   ]
  },
  {
   "cell_type": "code",
   "execution_count": 5,
   "metadata": {
    "collapsed": false,
    "deletable": true,
    "editable": true
   },
   "outputs": [
    {
     "data": {
      "text/plain": [
       "<matplotlib.axes._subplots.AxesSubplot at 0x7f2a47d59990>"
      ]
     },
     "execution_count": 5,
     "metadata": {},
     "output_type": "execute_result"
    },
    {
     "data": {
      "image/png": "[encoded data removed]",
      "text/plain": [
       "<matplotlib.figure.Figure at 0x7f2a8b55ed10>"
      ]
     },
     "metadata": {},
     "output_type": "display_data"
    }
   ],
   "source": [
    "pareto(df, 1)"
   ]
  },
  {
   "cell_type": "markdown",
   "metadata": {},
   "source": [
    "The bars show the relative distributions of names, and the line shows the cumulative total. For example, since the line is at 40 for the letter I, we know that 40% of people have names beginning with the letter A through I. We’re looking for where the line crosses 50%, because we want the name that puts us right in the middle of an alphabetized line of people.\n",
    "\n",
    "We see that the line crosses 50% at the letter J, so let’s zoom in on that."
   ]
  },
  {
   "cell_type": "code",
   "execution_count": 6,
   "metadata": {
    "collapsed": false,
    "deletable": true,
    "editable": true
   },
   "outputs": [
    {
     "data": {
      "text/plain": [
       "<matplotlib.axes._subplots.AxesSubplot at 0x7f2a44432450>"
      ]
     },
     "execution_count": 6,
     "metadata": {},
     "output_type": "execute_result"
    },
    {
     "data": {
      "image/png": "[encoded data removed]",
      "text/plain": [
       "<matplotlib.figure.Figure at 0x7f2a44971550>"
      ]
     },
     "metadata": {},
     "output_type": "display_data"
    }
   ],
   "source": [
    "j = df.select(lambda x: df.name.values[x].startswith(\"J\"))\n",
    "pareto(j, 2)"
   ]
  },
  {
   "cell_type": "markdown",
   "metadata": {},
   "source": [
    "Now the line crosses 50% at names beginning with Jo, so let’s zoom in again."
   ]
  },
  {
   "cell_type": "code",
   "execution_count": 7,
   "metadata": {
    "collapsed": false,
    "deletable": true,
    "editable": true
   },
   "outputs": [
    {
     "data": {
      "text/plain": [
       "<matplotlib.axes._subplots.AxesSubplot at 0x7f2a37bd19d0>"
      ]
     },
     "execution_count": 7,
     "metadata": {},
     "output_type": "execute_result"
    },
    {
     "data": {
      "image/png": "[encoded data removed]",
      "text/plain": [
       "<matplotlib.figure.Figure at 0x7f2a44963bd0>"
      ]
     },
     "metadata": {},
     "output_type": "display_data"
    }
   ],
   "source": [
    "jo = df.select(lambda x: df.name.values[x].startswith(\"Jo\"))\n",
    "pareto(jo, 3)"
   ]
  },
  {
   "cell_type": "markdown",
   "metadata": {},
   "source": [
    "The line crosses 50% at Jor. Looking at all the names beginning with Jor, we see that Jordan has a cumulative total of 50.002042%."
   ]
  },
  {
   "cell_type": "code",
   "execution_count": 8,
   "metadata": {
    "collapsed": false,
    "deletable": true,
    "editable": true
   },
   "outputs": [
    {
     "data": {
      "text/html": [
       "<div>\n",
       "<table border=\"1\" class=\"dataframe\">\n",
       "  <thead>\n",
       "    <tr style=\"text-align: right;\">\n",
       "      <th></th>\n",
       "      <th>name</th>\n",
       "      <th>name_total</th>\n",
       "      <th>name_cumulative</th>\n",
       "      <th>name_percent</th>\n",
       "    </tr>\n",
       "  </thead>\n",
       "  <tbody>\n",
       "    <tr>\n",
       "      <th>13702</th>\n",
       "      <td>Jordain</td>\n",
       "      <td>5</td>\n",
       "      <td>147402649</td>\n",
       "      <td>49.844152</td>\n",
       "    </tr>\n",
       "    <tr>\n",
       "      <th>13703</th>\n",
       "      <td>Jordan</td>\n",
       "      <td>466921</td>\n",
       "      <td>147869570</td>\n",
       "      <td>50.002042</td>\n",
       "    </tr>\n",
       "    <tr>\n",
       "      <th>13704</th>\n",
       "      <td>Jordana</td>\n",
       "      <td>1453</td>\n",
       "      <td>147871023</td>\n",
       "      <td>50.002533</td>\n",
       "    </tr>\n",
       "    <tr>\n",
       "      <th>13705</th>\n",
       "      <td>Jordann</td>\n",
       "      <td>125</td>\n",
       "      <td>147871148</td>\n",
       "      <td>50.002575</td>\n",
       "    </tr>\n",
       "    <tr>\n",
       "      <th>13706</th>\n",
       "      <td>Jordanna</td>\n",
       "      <td>30</td>\n",
       "      <td>147871178</td>\n",
       "      <td>50.002585</td>\n",
       "    </tr>\n",
       "    <tr>\n",
       "      <th>13707</th>\n",
       "      <td>Jordanne</td>\n",
       "      <td>49</td>\n",
       "      <td>147871227</td>\n",
       "      <td>50.002602</td>\n",
       "    </tr>\n",
       "    <tr>\n",
       "      <th>13708</th>\n",
       "      <td>Jordany</td>\n",
       "      <td>97</td>\n",
       "      <td>147871324</td>\n",
       "      <td>50.002635</td>\n",
       "    </tr>\n",
       "    <tr>\n",
       "      <th>13709</th>\n",
       "      <td>Jorden</td>\n",
       "      <td>4944</td>\n",
       "      <td>147876268</td>\n",
       "      <td>50.004307</td>\n",
       "    </tr>\n",
       "    <tr>\n",
       "      <th>13710</th>\n",
       "      <td>Jordi</td>\n",
       "      <td>1342</td>\n",
       "      <td>147877610</td>\n",
       "      <td>50.004760</td>\n",
       "    </tr>\n",
       "    <tr>\n",
       "      <th>13711</th>\n",
       "      <td>Jordin</td>\n",
       "      <td>3305</td>\n",
       "      <td>147880915</td>\n",
       "      <td>50.005878</td>\n",
       "    </tr>\n",
       "    <tr>\n",
       "      <th>13712</th>\n",
       "      <td>Jordis</td>\n",
       "      <td>43</td>\n",
       "      <td>147880958</td>\n",
       "      <td>50.005892</td>\n",
       "    </tr>\n",
       "    <tr>\n",
       "      <th>13713</th>\n",
       "      <td>Jordon</td>\n",
       "      <td>11274</td>\n",
       "      <td>147892232</td>\n",
       "      <td>50.009705</td>\n",
       "    </tr>\n",
       "    <tr>\n",
       "      <th>13714</th>\n",
       "      <td>Jordy</td>\n",
       "      <td>2895</td>\n",
       "      <td>147895127</td>\n",
       "      <td>50.010684</td>\n",
       "    </tr>\n",
       "    <tr>\n",
       "      <th>13715</th>\n",
       "      <td>Jordyn</td>\n",
       "      <td>44805</td>\n",
       "      <td>147939932</td>\n",
       "      <td>50.025834</td>\n",
       "    </tr>\n",
       "    <tr>\n",
       "      <th>13716</th>\n",
       "      <td>Jordynn</td>\n",
       "      <td>1879</td>\n",
       "      <td>147941811</td>\n",
       "      <td>50.026470</td>\n",
       "    </tr>\n",
       "    <tr>\n",
       "      <th>13717</th>\n",
       "      <td>Jorel</td>\n",
       "      <td>197</td>\n",
       "      <td>147942008</td>\n",
       "      <td>50.026536</td>\n",
       "    </tr>\n",
       "    <tr>\n",
       "      <th>13718</th>\n",
       "      <td>Jorell</td>\n",
       "      <td>29</td>\n",
       "      <td>147942037</td>\n",
       "      <td>50.026546</td>\n",
       "    </tr>\n",
       "    <tr>\n",
       "      <th>13719</th>\n",
       "      <td>Jorene</td>\n",
       "      <td>5</td>\n",
       "      <td>147942042</td>\n",
       "      <td>50.026548</td>\n",
       "    </tr>\n",
       "    <tr>\n",
       "      <th>13720</th>\n",
       "      <td>Joretta</td>\n",
       "      <td>316</td>\n",
       "      <td>147942358</td>\n",
       "      <td>50.026655</td>\n",
       "    </tr>\n",
       "    <tr>\n",
       "      <th>13721</th>\n",
       "      <td>Jorge</td>\n",
       "      <td>120629</td>\n",
       "      <td>148062987</td>\n",
       "      <td>50.067445</td>\n",
       "    </tr>\n",
       "    <tr>\n",
       "      <th>13722</th>\n",
       "      <td>Jorgeluis</td>\n",
       "      <td>152</td>\n",
       "      <td>148063139</td>\n",
       "      <td>50.067497</td>\n",
       "    </tr>\n",
       "    <tr>\n",
       "      <th>13723</th>\n",
       "      <td>Jorgen</td>\n",
       "      <td>10</td>\n",
       "      <td>148063149</td>\n",
       "      <td>50.067500</td>\n",
       "    </tr>\n",
       "    <tr>\n",
       "      <th>13724</th>\n",
       "      <td>Jorgina</td>\n",
       "      <td>5</td>\n",
       "      <td>148063154</td>\n",
       "      <td>50.067502</td>\n",
       "    </tr>\n",
       "    <tr>\n",
       "      <th>13725</th>\n",
       "      <td>Jori</td>\n",
       "      <td>477</td>\n",
       "      <td>148063631</td>\n",
       "      <td>50.067663</td>\n",
       "    </tr>\n",
       "    <tr>\n",
       "      <th>13726</th>\n",
       "      <td>Jorie</td>\n",
       "      <td>361</td>\n",
       "      <td>148063992</td>\n",
       "      <td>50.067785</td>\n",
       "    </tr>\n",
       "    <tr>\n",
       "      <th>13727</th>\n",
       "      <td>Jorja</td>\n",
       "      <td>1163</td>\n",
       "      <td>148065155</td>\n",
       "      <td>50.068179</td>\n",
       "    </tr>\n",
       "    <tr>\n",
       "      <th>13728</th>\n",
       "      <td>Jorje</td>\n",
       "      <td>603</td>\n",
       "      <td>148065758</td>\n",
       "      <td>50.068382</td>\n",
       "    </tr>\n",
       "    <tr>\n",
       "      <th>13729</th>\n",
       "      <td>Jorley</td>\n",
       "      <td>16</td>\n",
       "      <td>148065774</td>\n",
       "      <td>50.068388</td>\n",
       "    </tr>\n",
       "    <tr>\n",
       "      <th>13730</th>\n",
       "      <td>Jorman</td>\n",
       "      <td>10</td>\n",
       "      <td>148065784</td>\n",
       "      <td>50.068391</td>\n",
       "    </tr>\n",
       "    <tr>\n",
       "      <th>13731</th>\n",
       "      <td>Jory</td>\n",
       "      <td>861</td>\n",
       "      <td>148066645</td>\n",
       "      <td>50.068682</td>\n",
       "    </tr>\n",
       "  </tbody>\n",
       "</table>\n",
       "</div>"
      ],
      "text/plain": [
       "            name  name_total  name_cumulative  name_percent\n",
       "13702    Jordain           5        147402649     49.844152\n",
       "13703     Jordan      466921        147869570     50.002042\n",
       "13704    Jordana        1453        147871023     50.002533\n",
       "13705    Jordann         125        147871148     50.002575\n",
       "13706   Jordanna          30        147871178     50.002585\n",
       "13707   Jordanne          49        147871227     50.002602\n",
       "13708    Jordany          97        147871324     50.002635\n",
       "13709     Jorden        4944        147876268     50.004307\n",
       "13710      Jordi        1342        147877610     50.004760\n",
       "13711     Jordin        3305        147880915     50.005878\n",
       "13712     Jordis          43        147880958     50.005892\n",
       "13713     Jordon       11274        147892232     50.009705\n",
       "13714      Jordy        2895        147895127     50.010684\n",
       "13715     Jordyn       44805        147939932     50.025834\n",
       "13716    Jordynn        1879        147941811     50.026470\n",
       "13717      Jorel         197        147942008     50.026536\n",
       "13718     Jorell          29        147942037     50.026546\n",
       "13719     Jorene           5        147942042     50.026548\n",
       "13720    Joretta         316        147942358     50.026655\n",
       "13721      Jorge      120629        148062987     50.067445\n",
       "13722  Jorgeluis         152        148063139     50.067497\n",
       "13723     Jorgen          10        148063149     50.067500\n",
       "13724    Jorgina           5        148063154     50.067502\n",
       "13725       Jori         477        148063631     50.067663\n",
       "13726      Jorie         361        148063992     50.067785\n",
       "13727      Jorja        1163        148065155     50.068179\n",
       "13728      Jorje         603        148065758     50.068382\n",
       "13729     Jorley          16        148065774     50.068388\n",
       "13730     Jorman          10        148065784     50.068391\n",
       "13731       Jory         861        148066645     50.068682"
      ]
     },
     "execution_count": 8,
     "metadata": {},
     "output_type": "execute_result"
    }
   ],
   "source": [
    "jor = df.select(lambda x: df.name.values[x].startswith(\"Jor\"))\n",
    "jor"
   ]
  },
  {
   "cell_type": "markdown",
   "metadata": {},
   "source": [
    " So, to optimize for comfort in an alphabetized line, we’ve found the perfectly unbiased name: Jordan."
   ]
  },
  {
   "cell_type": "code",
   "execution_count": null,
   "metadata": {
    "collapsed": true,
    "deletable": true,
    "editable": true
   },
   "outputs": [],
   "source": []
  }
 ],
 "metadata": {
  "kernelspec": {
   "display_name": "Python 2",
   "language": "python",
   "name": "python2"
  },
  "language_info": {
   "codemirror_mode": {
    "name": "ipython",
    "version": 2
   },
   "file_extension": ".py",
   "mimetype": "text/x-python",
   "name": "python",
   "nbconvert_exporter": "python",
   "pygments_lexer": "ipython2",
   "version": "2.7.9"
  }
 },
 "nbformat": 4,
 "nbformat_minor": 2
}
